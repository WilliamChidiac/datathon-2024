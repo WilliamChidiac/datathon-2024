{
 "cells": [
  {
   "cell_type": "markdown",
   "id": "d80af05b-ddf7-4e06-9beb-4c96bb0ec094",
   "metadata": {},
   "source": [
    "# FinBERT Sentiment Analysis"
   ]
  },
  {
   "cell_type": "code",
   "execution_count": 1,
   "id": "41bffa37-b563-4687-8cb5-b8cd7bc08914",
   "metadata": {
    "tags": []
   },
   "outputs": [
    {
     "name": "stdout",
     "output_type": "stream",
     "text": [
      "\u001b[1;31merror\u001b[0m: \u001b[1mexternally-managed-environment\u001b[0m\n",
      "\n",
      "\u001b[31m×\u001b[0m This environment is externally managed\n",
      "\u001b[31m╰─>\u001b[0m To install Python packages system-wide, try brew install\n",
      "\u001b[31m   \u001b[0m xyz, where xyz is the package you are trying to\n",
      "\u001b[31m   \u001b[0m install.\n",
      "\u001b[31m   \u001b[0m \n",
      "\u001b[31m   \u001b[0m If you wish to install a Python library that isn't in Homebrew,\n",
      "\u001b[31m   \u001b[0m use a virtual environment:\n",
      "\u001b[31m   \u001b[0m \n",
      "\u001b[31m   \u001b[0m python3 -m venv path/to/venv\n",
      "\u001b[31m   \u001b[0m source path/to/venv/bin/activate\n",
      "\u001b[31m   \u001b[0m python3 -m pip install xyz\n",
      "\u001b[31m   \u001b[0m \n",
      "\u001b[31m   \u001b[0m If you wish to install a Python application that isn't in Homebrew,\n",
      "\u001b[31m   \u001b[0m it may be easiest to use 'pipx install xyz', which will manage a\n",
      "\u001b[31m   \u001b[0m virtual environment for you. You can install pipx with\n",
      "\u001b[31m   \u001b[0m \n",
      "\u001b[31m   \u001b[0m brew install pipx\n",
      "\u001b[31m   \u001b[0m \n",
      "\u001b[31m   \u001b[0m You may restore the old behavior of pip by passing\n",
      "\u001b[31m   \u001b[0m the '--break-system-packages' flag to pip, or by adding\n",
      "\u001b[31m   \u001b[0m 'break-system-packages = true' to your pip.conf file. The latter\n",
      "\u001b[31m   \u001b[0m will permanently disable this error.\n",
      "\u001b[31m   \u001b[0m \n",
      "\u001b[31m   \u001b[0m If you disable this error, we STRONGLY recommend that you additionally\n",
      "\u001b[31m   \u001b[0m pass the '--user' flag to pip, or set 'user = true' in your pip.conf\n",
      "\u001b[31m   \u001b[0m file. Failure to do this can result in a broken Homebrew installation.\n",
      "\u001b[31m   \u001b[0m \n",
      "\u001b[31m   \u001b[0m Read more about this behavior here: <https://peps.python.org/pep-0668/>\n",
      "\n",
      "\u001b[1;35mnote\u001b[0m: If you believe this is a mistake, please contact your Python installation or OS distribution provider. You can override this, at the risk of breaking your Python installation or OS, by passing --break-system-packages.\n",
      "\u001b[1;36mhint\u001b[0m: See PEP 668 for the detailed specification.\n",
      "\n",
      "\u001b[1m[\u001b[0m\u001b[34;49mnotice\u001b[0m\u001b[1;39;49m]\u001b[0m\u001b[39;49m A new release of pip is available: \u001b[0m\u001b[31;49m24.0\u001b[0m\u001b[39;49m -> \u001b[0m\u001b[32;49m24.3.1\u001b[0m\n",
      "\u001b[1m[\u001b[0m\u001b[34;49mnotice\u001b[0m\u001b[1;39;49m]\u001b[0m\u001b[39;49m To update, run: \u001b[0m\u001b[32;49m/usr/local/opt/python@3.12/bin/python3.12 -m pip install --upgrade pip\u001b[0m\n",
      "\u001b[1;31merror\u001b[0m: \u001b[1mexternally-managed-environment\u001b[0m\n",
      "\n",
      "\u001b[31m×\u001b[0m This environment is externally managed\n",
      "\u001b[31m╰─>\u001b[0m To install Python packages system-wide, try brew install\n",
      "\u001b[31m   \u001b[0m xyz, where xyz is the package you are trying to\n",
      "\u001b[31m   \u001b[0m install.\n",
      "\u001b[31m   \u001b[0m \n",
      "\u001b[31m   \u001b[0m If you wish to install a Python library that isn't in Homebrew,\n",
      "\u001b[31m   \u001b[0m use a virtual environment:\n",
      "\u001b[31m   \u001b[0m \n",
      "\u001b[31m   \u001b[0m python3 -m venv path/to/venv\n",
      "\u001b[31m   \u001b[0m source path/to/venv/bin/activate\n",
      "\u001b[31m   \u001b[0m python3 -m pip install xyz\n",
      "\u001b[31m   \u001b[0m \n",
      "\u001b[31m   \u001b[0m If you wish to install a Python application that isn't in Homebrew,\n",
      "\u001b[31m   \u001b[0m it may be easiest to use 'pipx install xyz', which will manage a\n",
      "\u001b[31m   \u001b[0m virtual environment for you. You can install pipx with\n",
      "\u001b[31m   \u001b[0m \n",
      "\u001b[31m   \u001b[0m brew install pipx\n",
      "\u001b[31m   \u001b[0m \n",
      "\u001b[31m   \u001b[0m You may restore the old behavior of pip by passing\n",
      "\u001b[31m   \u001b[0m the '--break-system-packages' flag to pip, or by adding\n",
      "\u001b[31m   \u001b[0m 'break-system-packages = true' to your pip.conf file. The latter\n",
      "\u001b[31m   \u001b[0m will permanently disable this error.\n",
      "\u001b[31m   \u001b[0m \n",
      "\u001b[31m   \u001b[0m If you disable this error, we STRONGLY recommend that you additionally\n",
      "\u001b[31m   \u001b[0m pass the '--user' flag to pip, or set 'user = true' in your pip.conf\n",
      "\u001b[31m   \u001b[0m file. Failure to do this can result in a broken Homebrew installation.\n",
      "\u001b[31m   \u001b[0m \n",
      "\u001b[31m   \u001b[0m Read more about this behavior here: <https://peps.python.org/pep-0668/>\n",
      "\n",
      "\u001b[1;35mnote\u001b[0m: If you believe this is a mistake, please contact your Python installation or OS distribution provider. You can override this, at the risk of breaking your Python installation or OS, by passing --break-system-packages.\n",
      "\u001b[1;36mhint\u001b[0m: See PEP 668 for the detailed specification.\n",
      "\n",
      "\u001b[1m[\u001b[0m\u001b[34;49mnotice\u001b[0m\u001b[1;39;49m]\u001b[0m\u001b[39;49m A new release of pip is available: \u001b[0m\u001b[31;49m24.0\u001b[0m\u001b[39;49m -> \u001b[0m\u001b[32;49m24.3.1\u001b[0m\n",
      "\u001b[1m[\u001b[0m\u001b[34;49mnotice\u001b[0m\u001b[1;39;49m]\u001b[0m\u001b[39;49m To update, run: \u001b[0m\u001b[32;49m/usr/local/opt/python@3.12/bin/python3.12 -m pip install --upgrade pip\u001b[0m\n"
     ]
    }
   ],
   "source": [
    "!pip install setuptools==67.8.0\n",
    "!pip install transformers feedparser --use-deprecated=legacy-resolver yfinance"
   ]
  },
  {
   "cell_type": "code",
   "execution_count": 2,
   "id": "d2f45838-60a4-4ddb-9d77-ed52a2f77479",
   "metadata": {
    "tags": []
   },
   "outputs": [
    {
     "name": "stderr",
     "output_type": "stream",
     "text": [
      "2024-11-04 11:51:40.614077: I tensorflow/core/platform/cpu_feature_guard.cc:210] This TensorFlow binary is optimized to use available CPU instructions in performance-critical operations.\n",
      "To enable the following instructions: AVX2 FMA, in other operations, rebuild TensorFlow with the appropriate compiler flags.\n"
     ]
    }
   ],
   "source": [
    "import feedparser\n",
    "import yfinance as yf\n",
    "import datetime\n",
    "import matplotlib.pyplot as plt\n",
    "from transformers import pipeline\n",
    "from statistics import mean\n",
    "import requests"
   ]
  },
  {
   "cell_type": "code",
   "execution_count": 3,
   "id": "c875badd-3aae-480e-85d6-841a4c42a6a0",
   "metadata": {
    "tags": []
   },
   "outputs": [
    {
     "name": "stderr",
     "output_type": "stream",
     "text": [
      "/Library/Frameworks/Python.framework/Versions/3.12/lib/python3.12/site-packages/transformers/tokenization_utils_base.py:1601: FutureWarning: `clean_up_tokenization_spaces` was not set. It will be set to `True` by default. This behavior will be depracted in transformers v4.45, and will be then set to `False` by default. For more details check this issue: https://github.com/huggingface/transformers/issues/31884\n",
      "  warnings.warn(\n"
     ]
    }
   ],
   "source": [
    "# Use a pipeline as a high-level helper\n",
    "from transformers import pipeline\n",
    "\n",
    "pipe = pipeline(\"text-classification\", model=\"ProsusAI/finbert\")"
   ]
  },
  {
   "cell_type": "code",
   "execution_count": 4,
   "id": "14521560-1ac8-4714-a7b7-11f4cf86a1d1",
   "metadata": {
    "tags": []
   },
   "outputs": [],
   "source": [
    "# Function to get the ticker symbol for a company name\n",
    "def get_ticker(company_name):\n",
    "    try:\n",
    "        ticker = yf.Ticker(company_name).ticker\n",
    "        return ticker if ticker else None\n",
    "    except Exception as e:\n",
    "        print(f\"Error looking up ticker: {e}\")\n",
    "        return None"
   ]
  },
  {
   "cell_type": "code",
   "execution_count": 5,
   "id": "6a4a812f-719a-4d00-8615-39a8bfa34391",
   "metadata": {},
   "outputs": [
    {
     "name": "stdout",
     "output_type": "stream",
     "text": [
      "Using ticker: GS\n",
      "No articles matched the keyword.\n"
     ]
    }
   ],
   "source": [
    "# User input for company name and keyword\n",
    "company_name = input(\"Enter the company name: \")\n",
    "keyword = input(\"Enter a keyword to filter articles (e.g., 'meta'): \")\n",
    "\n",
    "ticker = get_ticker(company_name)\n",
    "\n",
    "if not ticker:\n",
    "    print(\"Ticker not found. Please try a different company name.\")\n",
    "else:\n",
    "    print(f\"Using ticker: {ticker}\")\n",
    "\n",
    "    # Parse RSS feed for financial news\n",
    "    \n",
    "    rss_feeds = [\n",
    "    f'https://finance.yahoo.com/rss/headline?s={ticker}', \n",
    "    # f'https://www.nasdaq.com/feed/rssoutbound?symbol={ticker}'\n",
    "    ]\n",
    "    \n",
    "    articles = []\n",
    "\n",
    "    # Collect articles from all RSS feeds\n",
    "    for rss_url in rss_feeds:\n",
    "        feed = feedparser.parse(rss_url)\n",
    "        for entry in feed.entries:\n",
    "            articles.append(entry)\n",
    "            \n",
    "#     # Collect articles from all RSS feeds\n",
    "#     for rss_url in rss_feeds:\n",
    "#         try:\n",
    "#             # Fetch content from the RSS feed\n",
    "#             response = requests.get(rss_url, headers={'User-Agent': 'Mozilla/5.0'})\n",
    "            \n",
    "#             # Parse the RSS feed content\n",
    "#             feed = feedparser.parse(response.content)\n",
    "            \n",
    "#             # Check if the feed has entries\n",
    "#             if not feed.entries:\n",
    "#                 print(f\"No articles found in {rss_url}.\")\n",
    "#                 continue\n",
    "            \n",
    "#             # Append each entry to articles list\n",
    "#             for entry in feed.entries:\n",
    "#                 articles.append(entry)\n",
    "        \n",
    "#         except Exception as e:\n",
    "#             print(f\"An error occurred with {rss_url}: {e}\")\n",
    "\n",
    "    # rss_url = f'https://finance.yahoo.com/rss/headline?s={ticker}'\n",
    "    # feed = feedparser.parse(rss_url)\n",
    "\n",
    "    total_score = 0\n",
    "    num_articles = 0\n",
    "    sentiment_scores = []\n",
    "\n",
    "    for i, entry in enumerate(articles): #feed.entries):\n",
    "        if keyword.lower() not in entry.summary.lower():\n",
    "            continue\n",
    "\n",
    "        print(f'Title: {entry.title}')\n",
    "        print(f'Link: {entry.link}')\n",
    "        print(f'Published: {entry.published}')\n",
    "        print(f'Summary: {entry.summary}')\n",
    "\n",
    "        sentiment = pipe(entry.summary)[0]\n",
    "        sentiment_scores.append(sentiment[\"score\"] if sentiment[\"label\"] == 'positive' else -sentiment[\"score\"])\n",
    "\n",
    "        print(f'Sentiment: {sentiment[\"label\"]}, score: {sentiment[\"score\"]}')\n",
    "        print('-' * 40)\n",
    "\n",
    "        total_score += sentiment[\"score\"] if sentiment[\"label\"] == 'positive' else -sentiment[\"score\"]\n",
    "        num_articles += 1\n",
    "\n",
    "    if num_articles > 0:\n",
    "        final_score = total_score / num_articles\n",
    "        overall_sentiment = \"Positive\" if final_score >= 0.15 else \"Negative\" if final_score <= -0.15 else \"Neutral\"\n",
    "        print(f'Overall sentiment: {overall_sentiment} ({final_score:.2f})')\n",
    "\n",
    "        # Plot sentiment trend over time\n",
    "        plt.figure(figsize=(10, 5))\n",
    "        plt.plot(range(len(sentiment_scores)), sentiment_scores, marker='o')\n",
    "        plt.title('Sentiment Trend Over Articles')\n",
    "        plt.xlabel('Article Number')\n",
    "        plt.ylabel('Sentiment Score')\n",
    "        plt.axhline(y=0, color='gray', linestyle='--')\n",
    "        plt.show()\n",
    "\n",
    "        # Anomaly detection based on the mean\n",
    "        avg_sentiment = mean(sentiment_scores)\n",
    "        anomaly_threshold = 2 * abs(avg_sentiment)\n",
    "        anomalies = [(i, score) for i, score in enumerate(sentiment_scores) if abs(score - avg_sentiment) > anomaly_threshold]\n",
    "\n",
    "        if anomalies:\n",
    "            print(\"\\nAnomalies detected in sentiment scores:\")\n",
    "            for idx, score in anomalies:\n",
    "                print(f\"Article {idx + 1}: Sentiment Score = {score:.2f}\")\n",
    "        else:\n",
    "            print(\"\\nNo significant anomalies detected.\")\n",
    "    else:\n",
    "        print(\"No articles matched the keyword.\")\n"
   ]
  },
  {
   "cell_type": "code",
   "execution_count": null,
   "id": "961aa6de-37ac-4f52-97d8-bc632377ac40",
   "metadata": {},
   "outputs": [],
   "source": []
  }
 ],
 "metadata": {
  "kernelspec": {
   "display_name": "Python 3",
   "language": "python",
   "name": "python3"
  },
  "language_info": {
   "codemirror_mode": {
    "name": "ipython",
    "version": 3
   },
   "file_extension": ".py",
   "mimetype": "text/x-python",
   "name": "python",
   "nbconvert_exporter": "python",
   "pygments_lexer": "ipython3",
   "version": "3.12.4"
  }
 },
 "nbformat": 4,
 "nbformat_minor": 5
}
